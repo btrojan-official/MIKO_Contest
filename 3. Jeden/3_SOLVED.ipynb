{
  "cells": [
    {
      "cell_type": "markdown",
      "metadata": {
        "id": "s9nv49_NxE4a"
      },
      "source": [
        "**<h1>Jeden</h1>**"
      ]
    },
    {
      "cell_type": "markdown",
      "metadata": {
        "id": "xv4D5G1MxE4c"
      },
      "source": [
        "Niestety podczas przypisywania zdjęć do poszczególnych kategorii, odkryłeś coś strasznego. Marek Adamczyk od zawsze był fanatykiem cyfry 1, i miał on dziesiątki tysięcy jej zdjęć na swoim telefonie, a teraz nagle jest ich tylko jakoś 5000. Podejrzewasz, że gdy robił zdjęcia podczas swych przygód, musiał nadpisać swoją kolekcję. Wiesz, że jeśli zauważy co się stało, popadnie w rozpacz, a ty nigdy nie zobaczysz swoich pieniędzy. Korzystając z zdjęć dostępnych na jego telefonie, wygeneruj kolejne na tyle podobne, aby nie zauważył różnicy, i był szczęśliwy z swoją kolekcją zdjęć\n",
        "\n",
        "Twoim zadaniem jest stworzenie systemu, który potrafi **generować nowe obrazy cyfry „1”**, bazując na danych MNIST. Obrazy te mają przypominać cyfrę „1” z MNIST, ale nie mogą być jej kopiami – muszą być **nowe**, wygenerowane na podstawie specyficznych reguł.\n",
        "\n",
        "---\n",
        "\n",
        "## Wyjaśnienie pojęć:\n",
        "\n",
        "- **MNIST**: To zbiór danych zawierający ręcznie pisane cyfry (od 0 do 9) zapisane jako obrazy o rozdzielczości $28 \\times 28$ pikseli. Każdy obraz to tak naprawdę wektor w przestrzeni $\\mathbb{R}^{784}$, gdzie każda liczba odpowiada jasności konkretnego piksela.\n",
        "\n",
        "- **Embedding ($\\phi$)**:\n",
        "  - Embedding to przekształcenie danych (tu: obrazów cyfry „1”) z ich oryginalnej postaci ($\\mathbb{R}^{784}$) do bardziej zrozumiałej przestrzeni o niższym wymiarze (w tym przypadku $\\mathbb{R}^3$).\n",
        "  - Funkcja $\\phi$ przypisuje każdemu obrazowi $x \\in \\mathbb{R}^{784}$ punkt w przestrzeni trójwymiarowej:\n",
        "\n",
        "    $\\phi : \\mathbb{R}^{784} \\to \\mathbb{R}^3$\n",
        "    \n",
        "    Przykład: jeśli masz obraz $x_1$, to embedding $\\phi(x_1)$ będzie punktem w przestrzeni $\\mathbb{R}^3$, np. $(1.5, -2.3, 0.7)$.\n",
        "\n",
        "- **Parametr ($\\epsilon$)**:\n",
        "  - To średnia odległość od każdego punktu w embeddingu $\\phi(X^{1}_{mnist})$ do jego najbliższego sąsiada. Mówiąc prościej, $\\epsilon$ określa, jak \"gęsto\" punkty są rozmieszczone w przestrzeni 3D:\n",
        "  \n",
        "    $$\n",
        "    \\Large \\epsilon = \\frac{1}{|X^{1}_{mnist}|} \\sum_{x \\in X^{1}_{mnist}} \\min_{y \\in X^{1}_{mnist} \\setminus \\{x\\}} ||\\phi(x) - \\phi(y)||\n",
        "    $$\n",
        "---\n",
        "\n",
        "## Kroki do wykonania\n",
        "\n",
        "### 1. Przygotowanie danych\n",
        "- Weź wyłącznie obrazy cyfry „1” z MNIST i oznacz ten zbiór jako $X^{1}_{mnist}$.\n",
        "- Obrazy w tym zbiorze stanowią podstawę dla generacji nowych danych.\n",
        "\n",
        "---\n",
        "\n",
        "### 2. Przekształcenie danych do przestrzeni 3D (embedding $\\phi$)\n",
        "- Użyj algorytmu **t-SNE**, aby przekształcić obrazy $X^{1}_{mnist}$ z przestrzeni $\\mathbb{R}^{784}$ (oryginalny format obrazów) do przestrzeni $\\mathbb{R}^3$.\n",
        "- Wyniki embeddingu to punkty $\\phi(x)$ w przestrzeni 3D:\n",
        "\n",
        "  $\\phi(x) \\in \\mathbb{R}^3$\n",
        "\n",
        "- Wyświetl chmurę punktów $\\phi(X^{1}_{mnist})$ na wykresie 3D, aby zobaczyć ich rozmieszczenie.\n",
        "\n",
        "---\n",
        "\n",
        "### 3. Nauka odwzorowania z przestrzeni 3D na obrazy\n",
        "- Zbuduj sieć neuronową, która nauczy się przekształcać punkty $\\phi(x)$ z przestrzeni 3D z powrotem na odpowiadające im obrazy $x \\in \\mathbb{R}^{784}$:\n",
        "\n",
        "  $\\phi^{-1} : \\mathbb{R}^3 \\to \\mathbb{R}^{784}$\n",
        "\n",
        "- Sieć neuronowa ma przyjmować punkt $z \\in \\mathbb{R}^3$ i generować obraz $x \\in \\mathbb{R}^{784}$ (czyli obraz $28 \\times 28$).\n",
        "- **Ograniczenie**: Możesz używać tylko warstw gęstych (dense), żadnych warstw konwolucyjnych.\n",
        "\n",
        "---\n",
        "\n",
        "### 4. Generowanie nowych punktów w przestrzeni 3D\n",
        "Aby wygenerować nowe obrazy, musisz najpierw stworzyć **losowe punkty $z_{\\text{random}}$** w przestrzeni 3D. Masz dwa sposoby:\n",
        "\n",
        "#### 4.1. Losowanie z rozkładu normalnego:\n",
        "- Wybierz losowy punkt $\\phi(x)$ z embeddingu $\\phi(X^{1}_{mnist})$.\n",
        "- Wygeneruj nowy punkt $z_{\\text{random}}$ z rozkładu:\n",
        "\n",
        "  $z_{\\text{random}} \\sim \\mathcal{N}(\\phi(x), \\epsilon \\cdot I)$\n",
        "  \n",
        "  gdzie:\n",
        "  - $\\mathcal{N}$ oznacza rozkład normalny,\n",
        "  - $\\phi(x)$ to wybrany punkt w embeddingu,\n",
        "  - $\\epsilon$ to średnia odległość do najbliższego sąsiada w $\\phi(X^{1}_{mnist})$,\n",
        "  - $I$ to macierz jednostkowa ($3 \\times 3$).\n",
        "\n",
        "#### 4.2. Losowanie z granic chmury punktów:\n",
        "- Wybierz sześcian obejmujący całą chmurę punktów $\\phi(X^{1}_{mnist})$, np. $[-20, 20] \\times [-20, 20] \\times [-20, 20]$.\n",
        "- Generuj losowy punkt $z_{\\text{random}}$ w tym sześcianie.\n",
        "- Sprawdzaj odległość $d$ tego punktu do najbliższego punktu w $\\phi(X^{1}_{mnist})$:\n",
        "  $d = \\min_{y \\in \\phi(X^{1}_{mnist})} ||z_{\\text{random}} - y||$\n",
        "- Jeśli $d \\leq \\epsilon$, akceptujesz punkt $z_{\\text{random}}$. W przeciwnym razie go odrzucasz i próbujesz ponownie.\n",
        "\n",
        "---\n",
        "\n",
        "### 5. Generowanie obrazów\n",
        "- Przekształć nowe punkty $z_{\\text{random}}$ z przestrzeni 3D z powrotem na obrazy $x \\in \\mathbb{R}^{784}$, używając swojej sieci neuronowej $\\phi^{-1}$.\n",
        "- Wygenerowane obrazy powinny przypominać cyfry „1”, ale **nie mogą być identyczne** z obrazami w $X^{1}_{mnist}$.\n",
        "\n",
        "---\n",
        "\n",
        "### 6. Ocena jakości\n",
        "- Oceń wygenerowane obrazy za pomocą klasyfikatora $k$-NN ($k = 3$):\n",
        "  - Klasyfikator $k$-NN złożony z:\n",
        "    - **Pierwszych 5,000 punktach z MNISTa** (klasy „1”) z zbioru treningowego,\n",
        "    - **5,000 punktach wygenerowanych** przez Twój model $\\phi^{-1}$.\n",
        "  - **Accuracy (dokładność)** klasyfikatora należy sprawdzić na osobnym zbiorze testowym, który składa się z:\n",
        "    - **Pierwszych 1,000 punktów z MNISTa** (klasy „1”) z zbioru testowego,\n",
        "    - **1,000 punktów wygenerowanych** przez Twój model $\\phi^{-1}$.\n",
        "\n",
        "---\n",
        "# <h2>Ocenanie</h2>\n",
        "\n",
        "Ocena zależy od wartości F1-score w sposób liniowy, przy czym:\n",
        "\n",
        "Wzór na obliczenie punktów (P):\n",
        "\n",
        "$$ P = \\frac{1-F1}{0.5} $$\n",
        "\n",
        "Gdzie:\n",
        "- `F1` to wartość F1-score modelu KNN (od 0 do 1).\n",
        "- Jeśli `F1 <= 0.5`, to P = 1.\n",
        "\n",
        "# <h2>Ograniczenia</h2>\n",
        "\n",
        "1. Możesz skorzystać z gotowych implementacji t-SNE oraz KNN\n",
        "2. Czas treningu i ewaluacji na GPU T4 w Google Colab powinien wynosić maksymalnie 15 minut.\n",
        "\n",
        "<h2>Rozwiązanie</h2>\n",
        "\n",
        "- W tym zadaniu musisz musisz dołączyć plik Zadanie.ipynb, który po włączeniu wykona wszystkie kroki polecenia, i w ostatniej komórce wyświetli accuracy.\n"
      ]
    },
    {
      "cell_type": "code",
      "execution_count": 74,
      "metadata": {
        "id": "wpU4c-s4xE4e"
      },
      "outputs": [],
      "source": [
        "import torch\n",
        "import torch.nn as nn\n",
        "import torch.optim as optim\n",
        "from torchvision import datasets, transforms\n",
        "from sklearn.manifold import TSNE\n",
        "from sklearn.neighbors import KNeighborsClassifier\n",
        "from sklearn.metrics import f1_score\n",
        "import numpy as np\n",
        "import matplotlib.pyplot as plt\n",
        "from mpl_toolkits.mplot3d import Axes3D\n",
        "import random"
      ]
    },
    {
      "cell_type": "code",
      "execution_count": 75,
      "metadata": {
        "id": "QH2cAXinxE4f"
      },
      "outputs": [],
      "source": [
        "def set_seed(seed: int):\n",
        "    torch.manual_seed(seed)\n",
        "    torch.cuda.manual_seed_all(seed)\n",
        "    np.random.seed(seed)\n",
        "    random.seed(seed)\n",
        "\n",
        "set_seed(42)"
      ]
    },
    {
      "cell_type": "markdown",
      "source": [
        "#Data preparing"
      ],
      "metadata": {
        "id": "4N_6XYW2RGVD"
      }
    },
    {
      "cell_type": "code",
      "source": [
        "transform = transforms.Compose([transforms.ToTensor()])\n",
        "mnist_dataset = datasets.MNIST(root='./data', train=True, download=True, transform=transform)\n",
        "indices = [i for i, label in enumerate(mnist_dataset.targets) if label == 1]\n",
        "filtered_data = torch.utils.data.Subset(mnist_dataset, indices)\n",
        "\n",
        "images = torch.stack([filtered_data[i][0].view(-1) for i in range(len(filtered_data))])\n",
        "labels = torch.tensor([1] * len(filtered_data))\n",
        "\n",
        "tsne = TSNE(n_components=3, random_state=42, perplexity=30, max_iter=1000)\n",
        "reduced_features = tsne.fit_transform(images)\n",
        "reduced_train_data = torch.tensor(reduced_features, dtype=torch.float32)"
      ],
      "metadata": {
        "id": "NGl4ghQFRFdQ"
      },
      "execution_count": 76,
      "outputs": []
    },
    {
      "cell_type": "markdown",
      "source": [
        "#Datasets"
      ],
      "metadata": {
        "id": "kJRSbWMjRQr9"
      }
    },
    {
      "cell_type": "code",
      "source": [
        "class TSNEDataset(torch.utils.data.Dataset):\n",
        "    def __init__(self, reduced_features, original_images):\n",
        "        self.reduced_features = reduced_features\n",
        "        self.original_images = original_images\n",
        "\n",
        "    def __len__(self):\n",
        "        return len(self.reduced_features)\n",
        "\n",
        "    def __getitem__(self, idx):\n",
        "        return self.reduced_features[idx], self.original_images[idx]\n",
        "\n",
        "class Decoder(nn.Module):\n",
        "    def __init__(self, input_dim, output_dim):\n",
        "        super(Decoder, self).__init__()\n",
        "        self.decoder = nn.Sequential(\n",
        "            nn.Linear(input_dim, 128),\n",
        "            nn.ReLU(),\n",
        "            nn.Linear(128, 256),\n",
        "            nn.ReLU(),\n",
        "            nn.Linear(256, output_dim),\n",
        "            nn.Sigmoid()\n",
        "        )\n",
        "\n",
        "    def forward(self, x):\n",
        "        return self.decoder(x)"
      ],
      "metadata": {
        "id": "ZzoPlKFIRXiQ"
      },
      "execution_count": 77,
      "outputs": []
    },
    {
      "cell_type": "markdown",
      "source": [
        "#Preparing Data"
      ],
      "metadata": {
        "id": "XcgMxhGYUO4o"
      }
    },
    {
      "cell_type": "code",
      "source": [
        "device = torch.device(\"cuda\" if torch.cuda.is_available() else \"cpu\")\n",
        "print(f\"Using device: {device}\")\n",
        "\n",
        "custom_dataset = TSNEDataset(reduced_train_data, images)\n",
        "data_loader = torch.utils.data.DataLoader(custom_dataset, batch_size=64, shuffle=True)\n",
        "\n",
        "input_dim = reduced_train_data.size(1)\n",
        "output_dim = images.size(1)\n",
        "decoder = Decoder(input_dim, output_dim).to(device)\n",
        "\n",
        "reduced_train_data = reduced_train_data.to(device)\n",
        "images = images.to(device)\n"
      ],
      "metadata": {
        "colab": {
          "base_uri": "https://localhost:8080/"
        },
        "collapsed": true,
        "id": "sI3ic5SuyWGN",
        "outputId": "7a7a909c-f40a-486b-9e45-ad44a18661a0"
      },
      "execution_count": 78,
      "outputs": [
        {
          "output_type": "stream",
          "name": "stdout",
          "text": [
            "Using device: cuda\n"
          ]
        }
      ]
    },
    {
      "cell_type": "markdown",
      "source": [
        "#Training"
      ],
      "metadata": {
        "id": "C2Iu_DFnUVZT"
      }
    },
    {
      "cell_type": "code",
      "source": [
        "criterion = nn.MSELoss()\n",
        "optimizer = optim.Adam(decoder.parameters(), lr=0.001)\n",
        "epochs = 30\n",
        "\n",
        "for epoch in range(epochs):\n",
        "    total_loss = 0\n",
        "    for reduced, original in data_loader:\n",
        "        reduced, original = reduced.to(device), original.to(device)\n",
        "        optimizer.zero_grad()\n",
        "        reconstructed = decoder(reduced)\n",
        "        loss = criterion(reconstructed, original)\n",
        "        loss.backward()\n",
        "        optimizer.step()\n",
        "        total_loss += loss.item()\n",
        "\n",
        "    print(f\"Epoch {epoch+1}/{epochs}, Loss: {total_loss/len(data_loader):.6f}\")"
      ],
      "metadata": {
        "colab": {
          "base_uri": "https://localhost:8080/"
        },
        "id": "6OYq8KhqRjno",
        "outputId": "6741d446-e99d-4fd7-a1c2-9d7613be6d53"
      },
      "execution_count": 85,
      "outputs": [
        {
          "output_type": "stream",
          "name": "stdout",
          "text": [
            "Epoch 1/30, Loss: 0.006867\n",
            "Epoch 2/30, Loss: 0.006570\n",
            "Epoch 3/30, Loss: 0.006439\n",
            "Epoch 4/30, Loss: 0.006313\n",
            "Epoch 5/30, Loss: 0.006191\n",
            "Epoch 6/30, Loss: 0.006113\n",
            "Epoch 7/30, Loss: 0.006060\n",
            "Epoch 8/30, Loss: 0.005986\n",
            "Epoch 9/30, Loss: 0.005935\n",
            "Epoch 10/30, Loss: 0.005878\n",
            "Epoch 11/30, Loss: 0.005839\n",
            "Epoch 12/30, Loss: 0.005793\n",
            "Epoch 13/30, Loss: 0.005739\n",
            "Epoch 14/30, Loss: 0.005718\n",
            "Epoch 15/30, Loss: 0.005679\n",
            "Epoch 16/30, Loss: 0.005631\n",
            "Epoch 17/30, Loss: 0.005581\n",
            "Epoch 18/30, Loss: 0.005525\n",
            "Epoch 19/30, Loss: 0.005514\n",
            "Epoch 20/30, Loss: 0.005479\n",
            "Epoch 21/30, Loss: 0.005439\n",
            "Epoch 22/30, Loss: 0.005431\n",
            "Epoch 23/30, Loss: 0.005416\n",
            "Epoch 24/30, Loss: 0.005375\n",
            "Epoch 25/30, Loss: 0.005350\n",
            "Epoch 26/30, Loss: 0.005327\n",
            "Epoch 27/30, Loss: 0.005290\n",
            "Epoch 28/30, Loss: 0.005281\n",
            "Epoch 29/30, Loss: 0.005227\n",
            "Epoch 30/30, Loss: 0.005246\n"
          ]
        }
      ]
    },
    {
      "cell_type": "markdown",
      "source": [
        "#Display of Generated Img"
      ],
      "metadata": {
        "id": "ZoyDTSpHUXiL"
      }
    },
    {
      "cell_type": "code",
      "source": [
        "reduced_max = torch.max(reduced_train_data, dim=0)[0]\n",
        "reduced_min = torch.min(reduced_train_data, dim=0)[0]\n",
        "\n",
        "n = 5\n",
        "\n",
        "to_generate = tensor = torch.stack([\n",
        "    torch.FloatTensor(n).uniform_(reduced_min[0], reduced_max[0]),\n",
        "    torch.FloatTensor(n).uniform_(reduced_min[1], reduced_max[1]),\n",
        "    torch.FloatTensor(n).uniform_(reduced_min[2], reduced_max[2])\n",
        "], dim=1).to(device)"
      ],
      "metadata": {
        "id": "la3_-8upzXC8"
      },
      "execution_count": 87,
      "outputs": []
    },
    {
      "cell_type": "code",
      "source": [
        "generated_samples = decoder(to_generate)\n",
        "print(generated_samples.shape)"
      ],
      "metadata": {
        "colab": {
          "base_uri": "https://localhost:8080/"
        },
        "id": "0M9ATr_ULX1Y",
        "outputId": "bc9f9cf8-2783-4646-d3c9-ac0926ba9c0a"
      },
      "execution_count": 88,
      "outputs": [
        {
          "output_type": "stream",
          "name": "stdout",
          "text": [
            "torch.Size([5, 784])\n"
          ]
        }
      ]
    },
    {
      "cell_type": "code",
      "source": [
        "def display_reconstructed(reconstructed_tensor, title=\"Reconstructed Tensor\"):\n",
        "\n",
        "    tensor_np = reconstructed_tensor.detach().cpu().numpy()\n",
        "\n",
        "    if len(tensor_np.shape) == 3 and tensor_np.shape[-1] == 3:\n",
        "        plt.imshow(tensor_np)\n",
        "    else:\n",
        "        plt.imshow(tensor_np, cmap=\"gray\")\n",
        "\n",
        "    plt.title(title)\n",
        "    plt.axis(\"off\")\n",
        "\n",
        "    plt.show()"
      ],
      "metadata": {
        "id": "T1_wKz-DLk4I"
      },
      "execution_count": 89,
      "outputs": []
    },
    {
      "cell_type": "code",
      "source": [
        "display_reconstructed(generated_samples[2].reshape(28,28))"
      ],
      "metadata": {
        "colab": {
          "base_uri": "https://localhost:8080/",
          "height": 428
        },
        "id": "Jn6-VEOYL8zo",
        "outputId": "f8047d78-fef1-4478-c8be-c2a3c8ec9763"
      },
      "execution_count": 96,
      "outputs": [
        {
          "output_type": "display_data",
          "data": {
            "text/plain": [
              "<Figure size 640x480 with 1 Axes>"
            ],
            "image/png": "[encoded data removed]"
          },
          "metadata": {}
        }
      ]
    },
    {
      "cell_type": "markdown",
      "source": [
        "#Validate with knn classifier"
      ],
      "metadata": {
        "id": "xj3Lby0qUaoR"
      }
    },
    {
      "cell_type": "code",
      "source": [
        "n_generated_train = 5000\n",
        "n_generated_test = 1000\n",
        "\n",
        "reduced_max = torch.max(reduced_train_data, dim=0)[0]\n",
        "reduced_min = torch.min(reduced_train_data, dim=0)[0]\n",
        "\n",
        "decoder.eval()\n",
        "\n",
        "with torch.no_grad():\n",
        "    generated_train_reduced = torch.stack([\n",
        "        torch.FloatTensor(n_generated_train).uniform_(reduced_min[0], reduced_max[0]),\n",
        "        torch.FloatTensor(n_generated_train).uniform_(reduced_min[1], reduced_max[1]),\n",
        "        torch.FloatTensor(n_generated_train).uniform_(reduced_min[2], reduced_max[2])\n",
        "    ], dim=1).to(device)\n",
        "    generated_train_images = decoder(generated_train_reduced).view(n_generated_train, -1)\n",
        "    generated_train_labels = torch.zeros((n_generated_train,))\n",
        "\n",
        "with torch.no_grad():\n",
        "    generated_test_reduced = torch.stack([\n",
        "        torch.FloatTensor(n_generated_test).uniform_(reduced_min[0], reduced_max[0]),\n",
        "        torch.FloatTensor(n_generated_test).uniform_(reduced_min[1], reduced_max[1]),\n",
        "        torch.FloatTensor(n_generated_test).uniform_(reduced_min[2], reduced_max[2])\n",
        "    ], dim=1).to(device)\n",
        "    generated_test_images = decoder(generated_test_reduced).view(n_generated_test, -1)\n",
        "    generated_test_labels = torch.zeros((n_generated_test,))\n",
        "\n",
        "combined_train_images = torch.cat([images[:n_generated_train], generated_train_images], dim=0).cpu()\n",
        "combined_train_labels = torch.cat([labels[:n_generated_train], generated_train_labels], dim=0).cpu()\n",
        "\n",
        "combined_test_images = torch.cat([images[n_generated_train:n_generated_train+n_generated_test], generated_test_images], dim=0).cpu()\n",
        "combined_test_labels = torch.cat([labels[n_generated_train:n_generated_train+n_generated_test], generated_test_labels], dim=0).cpu()\n",
        "\n",
        "knn = KNeighborsClassifier(n_neighbors=3)\n",
        "knn.fit(combined_train_images.numpy(), combined_train_labels.numpy())\n",
        "\n",
        "predictions = knn.predict(combined_test_images.numpy())\n",
        "accuracy = f1_score(combined_test_labels.numpy(), predictions)\n",
        "\n",
        "print(combined_test_labels.shape)\n",
        "print(combined_test_labels[:10])\n",
        "print(combined_test_labels[-10:])\n",
        "\n",
        "print(f\"KNN Classifier Accuracy: {accuracy * 100:.2f}%\")"
      ],
      "metadata": {
        "colab": {
          "base_uri": "https://localhost:8080/"
        },
        "id": "oEMeGw8fMR-r",
        "outputId": "1c6c318d-1064-4300-955b-4f61120474b7"
      },
      "execution_count": 95,
      "outputs": [
        {
          "output_type": "stream",
          "name": "stdout",
          "text": [
            "torch.Size([2000])\n",
            "tensor([1., 1., 1., 1., 1., 1., 1., 1., 1., 1.])\n",
            "tensor([0., 0., 0., 0., 0., 0., 0., 0., 0., 0.])\n",
            "KNN Classifier Accuracy: 44.60%\n"
          ]
        }
      ]
    }
  ],
  "metadata": {
    "kernelspec": {
      "display_name": "Python 3",
      "name": "python3"
    },
    "language_info": {
      "codemirror_mode": {
        "name": "ipython",
        "version": 3
      },
      "file_extension": ".py",
      "mimetype": "text/x-python",
      "name": "python",
      "nbconvert_exporter": "python",
      "pygments_lexer": "ipython3",
      "version": "3.9.20"
    },
    "colab": {
      "provenance": [],
      "gpuType": "T4"
    },
    "accelerator": "GPU"
  },
  "nbformat": 4,
  "nbformat_minor": 0
}